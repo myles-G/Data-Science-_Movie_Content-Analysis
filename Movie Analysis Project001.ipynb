{
 "cells": [
  {
   "cell_type": "markdown",
   "metadata": {},
   "source": [
    "## Final Project Submission\n",
    "\n",
    "Please fill out:\n",
    "* Student name: Benedict Wafula Kuloba\n",
    "* Student pace: Full time - Full-Time Remote\n",
    "* Scheduled project review date/time: 22/03/2024\n",
    "* Instructor name: Asha Deen\n"
   ]
  },
  {
   "cell_type": "markdown",
   "metadata": {},
   "source": [
    "# Business Understanding\n",
    "\n",
    "Microsoft sees all the big companies creating original video content and they want to get in on the fun. They have decided to create a new movie studio, but they don’t know anything about creating movies. You are charged with exploring what types of films are currently doing the best at the box office. You must then translate those findings into actionable insights that the head of Microsoft's new movie studio can use to help decide what type of films to create.\n",
    "\n",
    "The primary objective of this project is to support Microsoft's entry into the film industry by offering crucial insights into the fundamental drivers behind a movie's success. Through an extensive analysis of diverse films, the aim is to identify distinct patterns that lay foundation for successful movies.\n",
    "\n",
    "\n",
    "\n",
    "By leveraging information from these datasets, this analysis aimed to address key questions posed in the business problem, with a focus on target variables such as genres, runtime, domestic gross, and production budget.\n",
    "\n",
    "Research Questions;\n",
    "\n",
    "1. what are the most popular movie genres?\n",
    "2. what is the average runtime minutes of a movie?\n",
    "3. what is the average domestic gross for a standar movie?\n",
    "4. what is the relationship between domestic gross profit and production budget?\n",
    "\n",
    "\n",
    "# Data Understanding\n",
    "\n",
    "Three different datasets are used for this Exploratory Data Analysis. These include;\n",
    "\n",
    "bom_movies; which entails the domestic and foreign gross revenue figures different movies earned after production. This particular dataset will guide Microsoft to understand which movies and genres earn more and which ones to invest in.\n",
    "\n",
    "Q_movies.info; which entails titles of movies and their genres. This file will especially guide Microsoft to understand in depth about the movie genres that are in the industry.\n",
    "\n",
    "tmdbmovies_budget; which inludes production_budget of a movie gets once it is released and domestic_gross  and  worldwide_gross it commands. This dataset will show Microsoft which movies do well in the industry by observing those with the highest rating and votes.\n",
    "\n",
    "\n",
    "# Data Cleaning\n",
    "\n",
    "In this workbook we:\n",
    "1.\tLoad the data into pandas DataFrames\n",
    "2.\tInspect and observe the DataFrames\n",
    "3.\tClean and convert the data into appropriate types\n"
   ]
  },
  {
   "cell_type": "markdown",
   "metadata": {},
   "source": [
    "# Initial Reading & Cleaning of Data Files"
   ]
  },
  {
   "cell_type": "code",
   "execution_count": 11,
   "metadata": {},
   "outputs": [],
   "source": [
    "#Import Libraries\n",
    "import pandas as pd\n",
    "import matplotlib.pyplot as plt\n",
    "import sqlite3\n",
    "import seaborn as sns\n",
    "import numpy as np\n",
    "import os"
   ]
  },
  {
   "cell_type": "code",
   "execution_count": 19,
   "metadata": {},
   "outputs": [],
   "source": [
    "os.chdir(r\"C:\\Users\\bened\\Documents\\Moringa\\Data-Science-_Movie_Content-Analysis\\Data\\im.db\")"
   ]
  },
  {
   "cell_type": "code",
   "execution_count": 28,
   "metadata": {},
   "outputs": [],
   "source": [
    "#Open your db file\n",
    "\n",
    "#Open 'im.db' database\n",
    "conn = sqlite3.connect('im.db')\n",
    "\n",
    "#Return list of every table in the db\n",
    "table_names=pd.read_sql(\"\"\"SELECT name FROM sqlite_master WHERE type = 'table';\"\"\",conn)\n",
    "\n",
    "#Return first 5 records of 'movie_basics' and 'movie_ratings' columns\n",
    "movie_basics_columns = pd.read_sql(\"SELECT * FROM movie_basics;\",conn)\n",
    "movie_ratings_columns = pd.read_sql(\"SELECT * FROM movie_ratings;\",conn)\n",
    "movie_ratings_columns.head(),movie_basics_columns.head()"
   ]
  },
  {
   "cell_type": "code",
   "execution_count": null,
   "metadata": {},
   "outputs": [],
   "source": [
    "#Open csv files"
   ]
  },
  {
   "cell_type": "code",
   "execution_count": 49,
   "metadata": {},
   "outputs": [],
   "source": [
    "tnmovie_budgets_df1 = pd.read_csv(r'C:\\Users\\bened\\Documents\\Moringa\\Data-Science-_Movie_Content-Analysis\\Data\\tn.movie_budgets.csv\\tn.movie_budgets.csv')\n",
    "tnmovie_budgets_df1.head()"
   ]
  },
  {
   "cell_type": "code",
   "execution_count": 50,
   "metadata": {},
   "outputs": [],
   "source": [
    "bommovie_df2 = pd.read_csv(r'C:\\Users\\bened\\Documents\\Moringa\\Data-Science-_Movie_Content-Analysis\\Data\\bom.movie_gross.csv\\bom.movie_gross.csv')\n",
    "bommovie_df2.head()"
   ]
  },
  {
   "cell_type": "code",
   "execution_count": 38,
   "metadata": {},
   "outputs": [],
   "source": [
    "tmdbmovies_df3 = pd.read_csv(r'C:\\Users\\bened\\Documents\\Moringa\\Data-Science-_Movie_Content-Analysis\\Data\\tmdb.movies.csv\\tmdb.movies.csv')\n",
    "tmdbmovies_df3.head()"
   ]
  },
  {
   "cell_type": "code",
   "execution_count": 40,
   "metadata": {},
   "outputs": [],
   "source": [
    "rtreviews_df5 = pd.read_csv(r'C:\\Users\\bened\\Documents\\Moringa\\Data-Science-_Movie_Content-Analysis\\Data\\rt.reviews.tsv\\rt.reviews.tsv', sep='\\t', encoding='unicode_escape')\n",
    "rtreviews_df5.head()"
   ]
  },
  {
   "cell_type": "code",
   "execution_count": 42,
   "metadata": {},
   "outputs": [],
   "source": [
    "rtmovie_df4 = pd.read_csv(r'C:\\Users\\bened\\Documents\\Moringa\\Data-Science-_Movie_Content-Analysis\\Data\\rt.movie_info.tsv\\rt.movie_info.tsv', sep='\\t')\n",
    "rtmovie_df4.head()"
   ]
  },
  {
   "cell_type": "code",
   "execution_count": null,
   "metadata": {},
   "outputs": [],
   "source": []
  },
  {
   "cell_type": "code",
   "execution_count": null,
   "metadata": {},
   "outputs": [],
   "source": [
    "#Data Exploration"
   ]
  },
  {
   "cell_type": "markdown",
   "metadata": {},
   "source": [
    "# Correlation"
   ]
  },
  {
   "cell_type": "code",
   "execution_count": null,
   "metadata": {},
   "outputs": [],
   "source": [
    "#Correlation between production_budget and domestic_gross"
   ]
  },
  {
   "cell_type": "code",
   "execution_count": 55,
   "metadata": {},
   "outputs": [
    {
     "name": "stdout",
     "output_type": "stream",
     "text": [
      "Correlation between 'production_budget' and 'domestic_gross': nan\n"
     ]
    }
   ],
   "source": [
    "budgets_df = pd.read_csv(r'C:\\Users\\bened\\Documents\\Moringa\\Data-Science-_Movie_Content-Analysis\\Data\\tn.movie_budgets.csv\\tn.movie_budgets.csv')\n",
    "budgets_df['production_budget'] = pd.to_numeric(budgets_df['production_budget'], errors='coerce')\n",
    "budgets_df['domestic_gross'] = pd.to_numeric(budgets_df['domestic_gross'], errors='coerce')\n",
    "\n",
    "budget_corr = budgets_df['production_budget'].corr(budgets_df['domestic_gross'])\n",
    "\n",
    "print(\"Correlation between 'production_budget' and 'domestic_gross':\", budget_corr)"
   ]
  },
  {
   "cell_type": "code",
   "execution_count": null,
   "metadata": {},
   "outputs": [],
   "source": [
    "#The correlation is \"Nan\" because some cells have nan values and they have not been cleaned yet"
   ]
  },
  {
   "cell_type": "code",
   "execution_count": null,
   "metadata": {},
   "outputs": [],
   "source": [
    "#Measures Of Central Tendency"
   ]
  },
  {
   "cell_type": "code",
   "execution_count": 56,
   "metadata": {},
   "outputs": [
    {
     "name": "stdout",
     "output_type": "stream",
     "text": [
      "Movie with highest average rating: Exteriores: Mulheres Brasileiras na Diplomacia .Genre: Documentary\n",
      "Movie with lowest average rating: Hito no sabaku .Genre: Drama\n"
     ]
    }
   ],
   "source": [
    "#Maximum average rating and genre\n",
    "query_1 = \"SELECT * FROM movie_basics\"\n",
    "query_2 = \"SELECT * FROM movie_ratings\"\n",
    "basics_df = pd.read_sql_query(query_1, conn)\n",
    "ratings_df = pd.read_sql_query(query_2, conn)\n",
    "merge_df = pd.merge(basics_df,ratings_df, on='movie_id')\n",
    "\n",
    "highest_rated_movie = merge_df.loc[merge_df['averagerating'].idxmax()]\n",
    "highest_rated_movie_title = highest_rated_movie['primary_title']\n",
    "highest_rated_movie_genre = highest_rated_movie['genres']\n",
    "#Minimum average rating and genre\n",
    "lowest_rated_movie = merge_df.loc[merge_df['averagerating'].idxmin()]\n",
    "lowest_rated_movie_title = lowest_rated_movie['primary_title']\n",
    "lowest_rated_movie_genre = lowest_rated_movie['genres']\n",
    "#Print results\n",
    "print('Movie with highest average rating:',highest_rated_movie_title,'.''Genre:',highest_rated_movie_genre)\n",
    "print('Movie with lowest average rating:',lowest_rated_movie_title,'.''Genre:',lowest_rated_movie_genre)"
   ]
  },
  {
   "cell_type": "code",
   "execution_count": 71,
   "metadata": {},
   "outputs": [],
   "source": [
    "#Mean Production Budget Per Year\n",
    "# Convert 'production_budget' to string type before using .str accessor\n",
    "df1['production_budget'] = df1['production_budget'].astype(str)\n",
    "\n",
    "df1['release_date'] = pd.to_datetime(df1['release_date'])\n",
    "df1['release_year'] = df1['release_date'].dt.year\n",
    "df1['production_budget'] = df1['production_budget'].str.replace('$', '').str.replace(',', '').astype(float)\n",
    "mean_budget = df1.groupby('release_year')['production_budget'].mean()\n",
    "mean_budget"
   ]
  },
  {
   "cell_type": "code",
   "execution_count": 72,
   "metadata": {},
   "outputs": [],
   "source": [
    "#Calculate no. of movies released per year\n",
    "released_year_numbers = df1['release_year'].value_counts()\n",
    "print(released_year_numbers)"
   ]
  },
  {
   "cell_type": "code",
   "execution_count": 73,
   "metadata": {},
   "outputs": [
    {
     "name": "stdout",
     "output_type": "stream",
     "text": [
      "The person who has directed the most movies is: Tony Newton\n",
      "The person who has directed the least movies is: Steve Ominde\n"
     ]
    }
   ],
   "source": [
    "#Director with highest number of movies\n",
    "\n",
    "query_3 = \"SELECT * FROM directors\"\n",
    "query_4 = \"SELECT * FROM persons\"\n",
    "directors_df = pd.read_sql_query(query_3, conn)\n",
    "persons_df = pd.read_sql_query(query_4, conn)\n",
    "merged_df2 = pd.merge(directors_df,persons_df, on='person_id')\n",
    "\n",
    "director_counts = merged_df2['person_id'].value_counts()\n",
    "\n",
    "most_frequent_id = director_counts.idxmax()\n",
    "most_frequent_name = merged_df2.loc[merged_df2['person_id'] == most_frequent_id, 'primary_name'].iloc[0]\n",
    "\n",
    "#Dirctor with lowest number of movies\n",
    "\n",
    "least_frequent_id = director_counts.idxmin()\n",
    "least_frequent_name = merged_df2.loc[merged_df2['person_id'] == least_frequent_id, 'primary_name'].iloc[0]\n",
    "\n",
    "#Print\n",
    "\n",
    "print(\"The person who has directed the most movies is:\", most_frequent_name)\n",
    "print(\"The person who has directed the least movies is:\", least_frequent_name)"
   ]
  },
  {
   "cell_type": "markdown",
   "metadata": {},
   "source": [
    "# Data Cleaning \n",
    "\n",
    "Process of dealing with numerical probelms and inconsistencies in your data.Some data cleaning tasks include:\n",
    "1. Cleaning empty cells.\n",
    "2. Cleaning wrong formats.\n",
    "3. Cleaning wrong data.\n",
    "4. Removing duplicates."
   ]
  },
  {
   "cell_type": "code",
   "execution_count": null,
   "metadata": {},
   "outputs": [],
   "source": [
    "#Removing Duplicates"
   ]
  },
  {
   "cell_type": "code",
   "execution_count": 84,
   "metadata": {},
   "outputs": [],
   "source": [
    "#Function For Removing Duplicates from csv files\n",
    "\n",
    "def find_duplicates(dataframe):\n",
    "    former_duplicates = dataframe.duplicated().sum() #Initial Duplicates\n",
    "    if former_duplicates > 0:\n",
    "        dataframe.drop_duplicates(inplace=True) #Removing Duplicates\n",
    "        latter_duplicates = dataframe.duplicated().sum() #Updated Duplicates\n",
    "        print(\"Duplicates removed. Number of duplicate rows before:\", former_duplicates, \", Number of duplicate rows after:\", latter_duplicates)\n",
    "    else:\n",
    "        print(\"No duplicates found.\")"
   ]
  },
  {
   "cell_type": "code",
   "execution_count": 93,
   "metadata": {},
   "outputs": [],
   "source": [
    "#Duplicates in movie_gross file\n",
    "tnmovie_budgets_df1 = find_duplicates(tnmovie_budgets_df1)"
   ]
  },
  {
   "cell_type": "code",
   "execution_count": 94,
   "metadata": {},
   "outputs": [],
   "source": [
    "#Duplicates In Movie_Budget File\n",
    "bommovie_df2 = find_duplicates(bommovie_df2)"
   ]
  },
  {
   "cell_type": "code",
   "execution_count": 95,
   "metadata": {},
   "outputs": [],
   "source": [
    "#Duplicates in movies file\n",
    "tmdbmovies_df3 = find_duplicates(tmdbmovies_df3)"
   ]
  },
  {
   "cell_type": "code",
   "execution_count": 96,
   "metadata": {},
   "outputs": [],
   "source": [
    "#Duplicates in movie_info file\n",
    "rtmovie_df4 = find_duplicates(rtmovie_df4)"
   ]
  },
  {
   "cell_type": "code",
   "execution_count": 97,
   "metadata": {},
   "outputs": [],
   "source": [
    "#Duplicates in reviews file\n",
    "find_duplicates(rtreviews_df5)"
   ]
  },
  {
   "cell_type": "code",
   "execution_count": null,
   "metadata": {},
   "outputs": [],
   "source": [
    "#There were 9 duplicates but I ran the code more than once"
   ]
  },
  {
   "cell_type": "code",
   "execution_count": 99,
   "metadata": {},
   "outputs": [],
   "source": [
    "#Function for removing duplicates in database tables\n",
    "\n",
    "def find_duplicates_db(conn,table_name):\n",
    "    query = f\"SELECT * FROM {table_name};\"\n",
    "    duplicate_df = pd.read_sql_query(query, conn)\n",
    "    cleaned_df = duplicate_df.drop_duplicates()\n",
    "    cleaned_df.to_sql(name=table_name, con=conn, if_exists='replace', index=False)\n",
    "    print(\"Duplicates Removed\")"
   ]
  },
  {
   "cell_type": "code",
   "execution_count": 103,
   "metadata": {},
   "outputs": [],
   "source": [
    "#Duplicates in directors table)\n",
    "find_duplicates_db(conn,'directors')"
   ]
  },
  {
   "cell_type": "code",
   "execution_count": null,
   "metadata": {},
   "outputs": [],
   "source": [
    "#Duplicates in writers table)\n",
    "find_duplicates_db(conn,'writers')"
   ]
  },
  {
   "cell_type": "code",
   "execution_count": null,
   "metadata": {},
   "outputs": [],
   "source": [
    "#Duplicates in principals table)\n",
    "find_duplicates_db(conn,'principals')"
   ]
  },
  {
   "cell_type": "code",
   "execution_count": null,
   "metadata": {},
   "outputs": [],
   "source": [
    "#Duplicates in persons table)\n",
    "find_duplicates_db(conn,'persons')"
   ]
  },
  {
   "cell_type": "code",
   "execution_count": null,
   "metadata": {},
   "outputs": [],
   "source": [
    "#Duplicates in known_for table)\n",
    "find_duplicates_db(conn,'known_for')"
   ]
  },
  {
   "cell_type": "code",
   "execution_count": null,
   "metadata": {},
   "outputs": [],
   "source": [
    "#Duplicates in movie_ratings table)\n",
    "find_duplicates_db(conn,'movie_ratings')"
   ]
  },
  {
   "cell_type": "code",
   "execution_count": null,
   "metadata": {},
   "outputs": [],
   "source": [
    "#Duplicates in movie_akas table)\n",
    "find_duplicates_db(conn,'movie_akas')"
   ]
  },
  {
   "cell_type": "code",
   "execution_count": null,
   "metadata": {},
   "outputs": [],
   "source": [
    "#Duplicates in movie_basics table)\n",
    "find_duplicates_db(conn,'movie_basics')\n",
    "#Cleaning empty cells"
   ]
  },
  {
   "cell_type": "code",
   "execution_count": 106,
   "metadata": {},
   "outputs": [],
   "source": [
    "#Removing 'currency','studio'and 'box_office' columns in 'movie_info table because of Nan values'\n",
    "df4 = pd.read_csv(r'C:\\Users\\bened\\Documents\\Moringa\\Data-Science-_Movie_Content-Analysis\\Data\\rt.movie_info.tsv\\rt.movie_info.tsv', sep='\\t')\n",
    "\n",
    "columns_to_drop_movie_info = ['currency', 'studio','box_office']\n",
    "new_df4 = df4.drop(columns=columns_to_drop_movie_info, inplace=False)\n",
    "print(new_df4.head())"
   ]
  },
  {
   "cell_type": "code",
   "execution_count": 114,
   "metadata": {},
   "outputs": [],
   "source": [
    "#Removing 'rating' and 'top_critic' columns from 'reviews' file because of Nan values\n",
    "df5 = pd.read_csv(r'C:\\Users\\bened\\Documents\\Moringa\\Data-Science-_Movie_Content-Analysis\\Data\\rt.reviews.tsv\\rt.reviews.tsv', sep='\\t', encoding='unicode_escape')\n",
    "columns_to_drop_reviews =['rating','top_critic']\n",
    "new_df5 = df5.drop(columns=columns_to_drop_reviews, inplace=False)\n",
    "print(new_df5.head())"
   ]
  },
  {
   "cell_type": "code",
   "execution_count": null,
   "metadata": {},
   "outputs": [],
   "source": [
    "#Replacing Nan values in movie_budgets file numerical columns with the mean of Non-Nan values"
   ]
  },
  {
   "cell_type": "code",
   "execution_count": 119,
   "metadata": {},
   "outputs": [],
   "source": [
    "#Replace 'Nan' with empty values\n",
    "df1 = pd.read_csv(r'C:\\Users\\bened\\Documents\\Moringa\\Data-Science-_Movie_Content-Analysis\\Data\\tn.movie_budgets.csv\\tn.movie_budgets.csv')\n",
    "\n",
    "df1.replace('NaN',np.nan,inplace=True)\n",
    "\n",
    "#Make all characters numeric\n",
    "\n",
    "df1['production_budget'] = df1['production_budget'].astype(str).str.replace('$', '').str.replace(',', '').astype(float)\n",
    "df1['domestic_gross'] = df1['domestic_gross'].astype(str).str.replace('$', '').str.replace(',', '').astype(float)\n",
    "df1['worldwide_gross'] = df1['worldwide_gross'].astype(str).str.replace('$', '').str.replace(',', '').astype(float)\n",
    "\n",
    "#Find Mean\n",
    "\n",
    "mean_production_budget = df1['production_budget'].mean()\n",
    "mean_domestic_gross = df1['domestic_gross'].mean()\n",
    "mean_worldwide_gross = df1['worldwide_gross'].mean()\n",
    "\n",
    "#Replace empty values with mean\n",
    "\n",
    "new_df1 = df1.fillna({'production_budget': mean_production_budget,\n",
    "                     'domestic_gross': mean_domestic_gross,\n",
    "                     'worldwide_gross': mean_worldwide_gross}, inplace=False)\n",
    "#Print\n",
    "\n",
    "print(new_df1.head())"
   ]
  },
  {
   "cell_type": "code",
   "execution_count": 121,
   "metadata": {},
   "outputs": [],
   "source": [
    "#Replacing Nan values in movie_gross file numerical columns with the mean of Non-Nan values\n",
    "df2 = pd.read_csv(r'C:\\Users\\bened\\Documents\\Moringa\\Data-Science-_Movie_Content-Analysis\\Data\\bom.movie_gross.csv\\bom.movie_gross.csv')\n",
    "\n",
    "#Replace 'Nan' with empty values\n",
    "\n",
    "df2.replace('NaN',np.nan,inplace=True)\n",
    "\n",
    "#Make in characters in foreign_gross column numeric\n",
    "\n",
    "df2['foreign_gross'] = df2['foreign_gross'].astype(str).str.replace('$', '').str.replace(',', '').astype(float)\n",
    "\n",
    "#Find Mean\n",
    "\n",
    "mean_domestic_gross_2 = df2['domestic_gross'].mean()\n",
    "mean_foreign_gross = df2['foreign_gross'].mean()\n",
    "\n",
    "#Replace the empty values with mean\n",
    "\n",
    "new_df2 = df2.fillna({'domestic_gross': mean_domestic_gross_2,\n",
    "                     'foreign_gross': mean_foreign_gross}, inplace=False)\n",
    "\n",
    "print(new_df2.head())"
   ]
  },
  {
   "cell_type": "markdown",
   "metadata": {},
   "source": [
    "# Visualizations\n",
    "\n",
    "These are graphical representations of data and information.They play a crucial role in understanding the patterns,trends and relatioships in data.Some of the common visualizations used un data analysis include:\n",
    "1. Bar Plots.\n",
    "2. Scatter Plots.\n",
    "3. Histograms.\n",
    "4. Line Plots.\n",
    "5. Heat Maps."
   ]
  },
  {
   "cell_type": "markdown",
   "metadata": {},
   "source": [
    "# Heatmap showing correlation relationship between production budget and domestic gross."
   ]
  },
  {
   "cell_type": "code",
   "execution_count": null,
   "metadata": {},
   "outputs": [],
   "source": [
    "plt.figure(figsize=(10, 6))\n",
    "sns.heatmap(new_df1[['production_budget', 'domestic_gross']].corr(), annot=True, cmap='coolwarm', fmt=\".2f\")\n",
    "plt.title('Correlation Heatmap: Production Budget vs. Domestic Gross')\n",
    "plt.xlabel('Variables')\n",
    "plt.ylabel('Variables')\n",
    "plt.show()"
   ]
  },
  {
   "cell_type": "markdown",
   "metadata": {},
   "source": [
    "From the heat map above,we can conclude that there is a positive correlation relationship between production_budget and domestic_gross(0.69),which means when the production_budget increases,the domestic_gross also increases."
   ]
  },
  {
   "cell_type": "markdown",
   "metadata": {},
   "source": [
    "# Heatmap showing correlation relationship between domestic gross and worldwide gross."
   ]
  },
  {
   "cell_type": "code",
   "execution_count": null,
   "metadata": {},
   "outputs": [],
   "source": [
    "plt.figure(figsize=(10, 6))\n",
    "sns.heatmap(new_df1[['domestic_gross', 'worldwide_gross']].corr(), annot=True, cmap='coolwarm', fmt=\".2f\")\n",
    "plt.title('Correlation Heatmap: Domestic Gross vs. Worldwide Gross')\n",
    "plt.xlabel('Variables')\n",
    "plt.ylabel('Variables')\n",
    "plt.show()"
   ]
  },
  {
   "cell_type": "markdown",
   "metadata": {},
   "source": [
    "From the heat map above,we can conclude that there is a very strong positive correlation relationship between domestic_gross and worldwide_gross(0.94),which means when the production_budget increases,the domestic_gross will almost always also increase."
   ]
  },
  {
   "cell_type": "markdown",
   "metadata": {},
   "source": [
    "# Histogram showing frequency distribution of average movie ratings."
   ]
  },
  {
   "cell_type": "code",
   "execution_count": null,
   "metadata": {},
   "outputs": [],
   "source": [
    "query_6 = \"SELECT * FROM movie_ratings\"\n",
    "\n",
    "ratings_df = pd.read_sql_query(query_6, conn)\n",
    "\n",
    "plt.figure(figsize=(10, 6)) \n",
    "plt.hist(ratings_df['averagerating'], bins=20, color='lightblue', edgecolor='black')  \n",
    "plt.title('Histogram showing distribution of average movie ratings')\n",
    "plt.xlabel('Average Rating')\n",
    "plt.ylabel('Frequency')\n",
    "plt.show()"
   ]
  },
  {
   "cell_type": "markdown",
   "metadata": {},
   "source": [
    "From the histogram above,we can conclude that most movies are rated at 6.5.This also shows that 6.5 is the mean average rating"
   ]
  },
  {
   "cell_type": "markdown",
   "metadata": {},
   "source": [
    "# Histogram showing frequency distribution of movie runtimes."
   ]
  },
  {
   "cell_type": "code",
   "execution_count": null,
   "metadata": {},
   "outputs": [],
   "source": [
    "query_7 = \"SELECT * FROM movie_basics\"\n",
    "\n",
    "ratings_df = pd.read_sql_query(query_7, conn)\n",
    "\n",
    "plt.figure(figsize=(10, 6)) \n",
    "plt.hist(ratings_df['runtime_minutes'], bins=5,range=(0,200), color='lightblue', edgecolor='black')  \n",
    "plt.title('Histogram showing distribution of movie runtimes')\n",
    "plt.xlabel('Runtime in minutes')\n",
    "plt.ylabel('Frequency')\n",
    "plt.show()"
   ]
  },
  {
   "cell_type": "markdown",
   "metadata": {},
   "source": [
    "From the histogram above,we can conclude that most movies are 100 minutes long./"
   ]
  },
  {
   "cell_type": "markdown",
   "metadata": {},
   "source": [
    "# Bar Chart Showing The Top 5 And Bottom 5 Genres\n"
   ]
  },
  {
   "cell_type": "code",
   "execution_count": null,
   "metadata": {},
   "outputs": [],
   "source": [
    "genres_df = pd.read_sql_query(query_7, conn)\n",
    "# Count the occurrences of each genre\n",
    "genre_counts = genres_df['genres'].value_counts()\n",
    "# Select top 5 and bottom 5 genres\n",
    "top_bottom_genres = pd.concat([genre_counts.head(5), genre_counts.tail(5)])\n",
    "# Plot the bar chart\n",
    "plt.figure(figsize=(10, 6)) \n",
    "top_bottom_genres.plot(kind='bar', color='skyblue', edgecolor='black') \n",
    "plt.title('Bar Chart Showing Top 5 and Bottom 5 Genres by Occurrences')\n",
    "plt.xlabel('Genre')\n",
    "plt.ylabel('Frequency')\n",
    "plt.xticks(rotation=45, ha='right')  # Rotate x-axis labels for better readability\n",
    "plt.show()"
   ]
  },
  {
   "cell_type": "markdown",
   "metadata": {},
   "source": [
    "From the bar chart depicting genre popularity, it can be concluded that the top five most popular genres are documentary, drama, comedy, horror, and comedy/drama, with documentary being the most popular among them. This finding aligns with the observation made during data exploration that the highest-rated movie is also a documentary.\n",
    "\n",
    "Conversely, the least popular genres include documentary/musical/mystery, drama/horror/short, action/animation/music, crime/family/horror, and fantasy/history/sci-fi."
   ]
  },
  {
   "cell_type": "markdown",
   "metadata": {},
   "source": [
    "# Recommendations.\n",
    "\n",
    "From the results of data exploration and the visualizations that I've created,I would make the following recommendations to Microsoft:\n",
    "1. Invest heavily in the production budget: The analysis indicates a positive correlation between production budget and domestic gross, suggesting that allocating resources to production can lead to higher box office returns.\n",
    "\n",
    "2. Focus on producing documentaries and dramas: These genres have been identified as the most popular among audiences, presenting an opportunity for Microsoft to capitalize on existing market trends.\n",
    "\n",
    "3. Consider hiring 'Omar Pasha' as a writer and director: With a significant contribution to the number of films in the dataset, Omar Pasha demonstrates a strong track record in the industry, potentially bringing valuable expertise to Microsoft's film projects.\n",
    "\n",
    "4. Aim for movie runtimes between 90 and 110 minutes: The average runtime falls within this range, indicating that movies of this duration are well-received by audiences.\n",
    "\n",
    "5. Avoid producing musicals and fantasies: These genres have been identified as the least popular among audiences, suggesting that they may not yield significant returns on investment.\n",
    "\n",
    "6. Target movie ratings of 6.5 or higher: With 6.5 being the average movie rating, Microsoft should aim to produce high-quality content that resonates positively with audiences."
   ]
  }
 ],
 "metadata": {
  "kernelspec": {
   "display_name": "Python 3",
   "language": "python",
   "name": "python3"
  },
  "language_info": {
   "codemirror_mode": {
    "name": "ipython",
    "version": 3
   },
   "file_extension": ".py",
   "mimetype": "text/x-python",
   "name": "python",
   "nbconvert_exporter": "python",
   "pygments_lexer": "ipython3",
   "version": "3.8.5"
  }
 },
 "nbformat": 4,
 "nbformat_minor": 2
}
